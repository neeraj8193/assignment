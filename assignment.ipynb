{
 "cells": [
  {
   "cell_type": "markdown",
   "id": "f6c813f4-3587-4451-b35a-704ddc941dd8",
   "metadata": {},
   "source": [
    "q1\n",
    "\n",
    "\n",
    "q1) Guido van Rossum\n",
    "\n",
    "q2) interpreted, object-oriented, high-level programming\n",
    "\n",
    "q3) yes python is case sensitive language\n",
    "4) .py\n",
    "5) interpreted\n",
    "q6) if else \n",
    "loops\n",
    "try except \n",
    "q7) #\n",
    "q8)  python --version\n",
    "q9)lambda\n",
    "q10)Preferred Installer Program\n",
    "q11)print() , map(), reduce(),sum()\n",
    "q12)79 characters\n",
    "q13)\n",
    "1)Presence of third-party modules \n",
    "2)Extensive support libraries(NumPy for numerical calculations, Pandas for data analytics, etc.) \n",
    "3)Open source and large active community base \n",
    "4)Versatile, Easy to read, learn and write\n",
    "5)User-friendly data structures \n",
    "6)High-level language \n",
    "Dynamically typed language(No need to mention data type based on the value assigned, it takes data type) \n",
    "7)Object-Oriented and Procedural  Programming language\n",
    "8)Portable and Interactive\n",
    "9)Ideal for prototypes – provide more functionality with less coding\n",
    "10)Highly Efficient(Python’s clean object-oriented design provides enhanced process control, and the language is equipped with excellent text processing and integration capabilities, as well as its own unit testing framework, which makes it more efficient.)\n",
    "Internet of Things(IoT) Opportunities\n",
    "22)Interpreted Language\n",
    "13)Portable across 14)Operating systems \n",
    "\n"
   ]
  },
  {
   "cell_type": "markdown",
   "id": "f91266ea-78ba-4866-a1be-ec265b885427",
   "metadata": {},
   "source": [
    "q14)Memory management in Python involves a private heap containing all Python objects and data structures. The management of this private heap is ensured internally by the Python memory manager.\n",
    "q15)Insall pyhton through python "
   ]
  }
 ],
 "metadata": {
  "kernelspec": {
   "display_name": "Python 3 (ipykernel)",
   "language": "python",
   "name": "python3"
  },
  "language_info": {
   "codemirror_mode": {
    "name": "ipython",
    "version": 3
   },
   "file_extension": ".py",
   "mimetype": "text/x-python",
   "name": "python",
   "nbconvert_exporter": "python",
   "pygments_lexer": "ipython3",
   "version": "3.10.8"
  }
 },
 "nbformat": 4,
 "nbformat_minor": 5
}
